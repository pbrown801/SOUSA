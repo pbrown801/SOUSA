{
 "cells": [
  {
   "cell_type": "code",
   "execution_count": 1,
   "id": "5f6ff6fa",
   "metadata": {},
   "outputs": [],
   "source": [
    "import requests\n",
    "import json\n",
    "import pandas as pd\n",
    "import numpy as np\n",
    "import math\n",
    "import sys\n",
    "import itertools\n",
    "import threading\n",
    "import time\n",
    "from astropy import units as u\n",
    "from astroquery.irsa_dust import IrsaDust\n",
    "from astropy.coordinates import Angle,SkyCoord\n",
    "from astropy.coordinates.name_resolve import NameResolveError\n",
    "from bs4 import BeautifulSoup\n",
    "\n",
    "\n"
   ]
  },
  {
   "cell_type": "code",
   "execution_count": 18,
   "id": "b70ad5ef",
   "metadata": {},
   "outputs": [],
   "source": [
    "swift= pd.read_csv('NewSwiftSNweblist.csv')\n"
   ]
  },
  {
   "cell_type": "code",
   "execution_count": 16,
   "id": "0d84caf1",
   "metadata": {},
   "outputs": [
    {
     "name": "stdout",
     "output_type": "stream",
     "text": [
      "2005 0.00026610881527879\n",
      "2006 0.0002899309890553098\n",
      "2007 0.0003175323994414419\n",
      "2008 0.00034980912211000486\n",
      "2009 0.00038795018707269384\n",
      "2010 0.0004335637766843955\n",
      "2011 0.0004888731101171847\n",
      "2012 0.0005570305204514483\n",
      "2013 0.0006426403924053339\n",
      "2014 0.0007526693912686031\n",
      "2015 0.0008981172515659162\n",
      "2016 0.001097288832166766\n",
      "2017 0.0013827419652144763\n",
      "2018 0.0018176615173367818\n",
      "2019 0.0025402591955315354\n",
      "2020 0.003910984880937478\n",
      "2021 0.00718493801252733\n"
     ]
    }
   ],
   "source": [
    "dates=[]\n",
    "redshift=[]\n",
    "for f in range(2005,2022):\n",
    "    dates.append(f)\n",
    "    elapse=(2023.0-f)*365.25\n",
    "    okay=0.008*(elapse/680.0)**(-1.5)\n",
    "    redshift.append(okay)\n",
    "    print(f,okay)\n"
   ]
  },
  {
   "cell_type": "code",
   "execution_count": 17,
   "id": "8a73de02",
   "metadata": {},
   "outputs": [
    {
     "name": "stdout",
     "output_type": "stream",
     "text": [
      "70.69485161078445\n"
     ]
    }
   ],
   "source": [
    "print(30*(384/680.0)**(-1.5))\n"
   ]
  },
  {
   "cell_type": "code",
   "execution_count": null,
   "id": "a5d91457",
   "metadata": {},
   "outputs": [],
   "source": []
  }
 ],
 "metadata": {
  "kernelspec": {
   "display_name": "Python 3 (ipykernel)",
   "language": "python",
   "name": "python3"
  },
  "language_info": {
   "codemirror_mode": {
    "name": "ipython",
    "version": 3
   },
   "file_extension": ".py",
   "mimetype": "text/x-python",
   "name": "python",
   "nbconvert_exporter": "python",
   "pygments_lexer": "ipython3",
   "version": "3.9.7"
  }
 },
 "nbformat": 4,
 "nbformat_minor": 5
}
