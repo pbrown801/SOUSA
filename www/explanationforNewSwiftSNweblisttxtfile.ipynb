{
 "cells": [
  {
   "cell_type": "code",
   "execution_count": 1,
   "metadata": {},
   "outputs": [],
   "source": [
    "import pandas as pd\n",
    "import numpy as np\n"
   ]
  },
  {
   "cell_type": "code",
   "execution_count": 13,
   "metadata": {},
   "outputs": [],
   "source": [
    "swift= pd.read_csv('NewSwiftSNweblist.csv',on_bad_lines='warn',delimiter=',')"
   ]
  },
  {
   "cell_type": "markdown",
   "metadata": {},
   "source": [
    "The txt file above was saved from excel as windows formatted text file and can be read with the above, even though the tabs \\t are not visible with more or in text edit"
   ]
  },
  {
   "cell_type": "code",
   "execution_count": 14,
   "metadata": {},
   "outputs": [
    {
     "name": "stdout",
     "output_type": "stream",
     "text": [
      "           SNname       HostName  PSN type redshifts     OtherName Nobs  \\\n",
      "0             NaN            NaN  NaN  NaN       NaN           NaN  NaN   \n",
      "1       SN2022jzc        NGC4088  NaN   II    0.0029  ZTF22aakdbia  NaN   \n",
      "2      AT2022adzb            NaN  NaN  NaN       NaN           NaN  NaN   \n",
      "3     SN 2022acsh            NaN  NaN  NaN       NaN           NaN  NaN   \n",
      "4      AT2022ablq            NaN  NaN  NaN       NaN           NaN  NaN   \n",
      "...           ...            ...  ...  ...       ...           ...  ...   \n",
      "1124     SN2005cs       NGC 5194  NaN   II   0.00154           NaN   38   \n",
      "1125     SN2005cf  MCG -01-39-03  NaN   Ia   0.00646           NaN   60   \n",
      "1126     SN2005bf  MCG +00-27-05  NaN   Ib   0.01891           NaN    1   \n",
      "1127     SN2005bc       NGC 5698  NaN   Ia   0.01227           NaN    1   \n",
      "1128     SN2005am       NGC 2811  NaN   Ia    0.0079           NaN   76   \n",
      "\n",
      "     targetids          SNra         SNdec  ...  TF_dm  TF_dm_err TF_dm_ref  \\\n",
      "0          NaN           NaN           NaN  ...    NaN        NaN       NaN   \n",
      "1          NaN           NaN           NaN  ...    NaN        NaN       NaN   \n",
      "2          NaN           NaN           NaN  ...    NaN        NaN       NaN   \n",
      "3          NaN           NaN           NaN  ...    NaN        NaN       NaN   \n",
      "4          NaN           NaN           NaN  ...    NaN        NaN       NaN   \n",
      "...        ...           ...           ...  ...    ...        ...       ...   \n",
      "1124       NaN  '13:29:53.37   +47:10:28.2  ...    NaN        NaN       NaN   \n",
      "1125       NaN  '15:21:33.12   -07:26:57.1  ...    NaN        NaN       NaN   \n",
      "1126       NaN  '10:23:56.99   -03:11:29.3  ...    NaN        NaN       NaN   \n",
      "1127       NaN  '14:37:15.12  +38:27:23.04  ...    NaN        NaN       NaN   \n",
      "1128       NaN  '09:16:12.47   -16:18:16.0  ...    NaN        NaN       NaN   \n",
      "\n",
      "     TRGB_dm TRGB_dm_err  TRGB_ref  Other_dm  Other_dm_err Other_dm_ref  test  \n",
      "0        NaN         NaN       NaN       NaN           NaN          NaN   NaN  \n",
      "1        NaN         NaN       NaN       NaN           NaN          NaN   NaN  \n",
      "2        NaN         NaN       NaN       NaN           NaN          NaN   NaN  \n",
      "3        NaN         NaN       NaN       NaN           NaN          NaN   NaN  \n",
      "4        NaN         NaN       NaN       NaN           NaN          NaN   NaN  \n",
      "...      ...         ...       ...       ...           ...          ...   ...  \n",
      "1124     NaN         NaN       NaN       NaN           NaN          ref  test  \n",
      "1125     NaN         NaN       NaN       NaN           NaN          ref  test  \n",
      "1126     NaN         NaN       NaN       NaN           NaN          ref  test  \n",
      "1127     NaN         NaN       NaN       NaN           NaN          ref  test  \n",
      "1128     NaN         NaN       NaN       NaN           NaN          ref  test  \n",
      "\n",
      "[1129 rows x 70 columns]\n"
     ]
    }
   ],
   "source": [
    "print(swift)"
   ]
  },
  {
   "cell_type": "code",
   "execution_count": null,
   "metadata": {},
   "outputs": [],
   "source": []
  }
 ],
 "metadata": {
  "kernelspec": {
   "display_name": "Python 3 (ipykernel)",
   "language": "python",
   "name": "python3"
  },
  "language_info": {
   "codemirror_mode": {
    "name": "ipython",
    "version": 3
   },
   "file_extension": ".py",
   "mimetype": "text/x-python",
   "name": "python",
   "nbconvert_exporter": "python",
   "pygments_lexer": "ipython3",
   "version": "3.9.16"
  }
 },
 "nbformat": 4,
 "nbformat_minor": 2
}
