{
 "cells": [
  {
   "cell_type": "code",
   "execution_count": 1,
   "metadata": {},
   "outputs": [],
   "source": [
    "import pandas as pd\n",
    "import numpy as np\n"
   ]
  },
  {
   "cell_type": "code",
   "execution_count": 7,
   "metadata": {},
   "outputs": [],
   "source": [
    "swift= pd.read_csv('NewSwiftSNweblist.txt',error_bad_lines=False,warn_bad_lines=True,delimiter='\\t')"
   ]
  },
  {
   "cell_type": "markdown",
   "metadata": {},
   "source": [
    "The txt file above was saved from excel as windows formatted text file and can be read with the above, even though the tabs \\t are not visible with more or in text edit"
   ]
  },
  {
   "cell_type": "code",
   "execution_count": 8,
   "metadata": {},
   "outputs": [
    {
     "name": "stdout",
     "output_type": "stream",
     "text": [
      "         AV   AVerr                      AVsour  Avschaflly  Best_dm  \\\n",
      "0       NaN     NaN                         NaN         NaN      NaN   \n",
      "1       NaN     NaN                         NaN         NaN      NaN   \n",
      "2       NaN     NaN                         NaN         NaN      NaN   \n",
      "3       NaN     NaN                         NaN         NaN      NaN   \n",
      "4       NaN     NaN                         NaN         NaN      NaN   \n",
      "...     ...     ...                         ...         ...      ...   \n",
      "1017  0.050  0.0000  Brown_walker_2020,S_F_2011       0.095      NaN   \n",
      "1018  0.263  0.0263                    S_F_2011       0.269      NaN   \n",
      "1019  0.120  0.0120                    S_F_2011       0.123      NaN   \n",
      "1020  0.028  0.0028                    S_F_2011       0.029      NaN   \n",
      "1021  0.120  0.0000  Brown_walker_2020,S_F_2011       0.146      NaN   \n",
      "\n",
      "      Best_dm_err  Best_dm_method  Cep_dm  Cep_dm_err  \\\n",
      "0             NaN             NaN     NaN         NaN   \n",
      "1             NaN             NaN     NaN         NaN   \n",
      "2             NaN             NaN     NaN         NaN   \n",
      "3             NaN             NaN     NaN         NaN   \n",
      "4             NaN             NaN     NaN         NaN   \n",
      "...           ...             ...     ...         ...   \n",
      "1017          NaN             NaN     NaN         NaN   \n",
      "1018          NaN             NaN  32.261       0.104   \n",
      "1019          NaN             NaN     NaN         NaN   \n",
      "1020          NaN             NaN     NaN         NaN   \n",
      "1021          NaN             NaN     NaN         NaN   \n",
      "\n",
      "                    Cep_dm_ref  ...   morphology  \\\n",
      "0                          NaN  ...          NaN   \n",
      "1                          NaN  ...          NaN   \n",
      "2                          NaN  ...          NaN   \n",
      "3                          NaN  ...          NaN   \n",
      "4                          NaN  ...          NaN   \n",
      "...                        ...  ...          ...   \n",
      "1017                       ref  ...  SA(s)bc pec   \n",
      "1018  Cepheids_Riess_etal_2016  ...        S0pec   \n",
      "1019                       ref  ...       SB(r)b   \n",
      "1020                       ref  ...          SBb   \n",
      "1021                       ref  ...      SB(rs)a   \n",
      "\n",
      "                                          notes other_SNe            ra  \\\n",
      "0                                           NaN       NaN           NaN   \n",
      "1                                           NaN       NaN           NaN   \n",
      "2                                           NaN       NaN           NaN   \n",
      "3                                           NaN       NaN           NaN   \n",
      "4                                           NaN       NaN           NaN   \n",
      "...                                         ...       ...           ...   \n",
      "1017  Brown  P. J.  et al. 2007  ApJ  659  1488       NaN  13h29m56.20s   \n",
      "1018       Wang  X.  et al. 2009  ApJ  697  380       NaN  15h21m33.29s   \n",
      "1019                                        NaN       NaN  10h23m56.49s   \n",
      "1020                                        NaN       NaN  14h37m14.70s   \n",
      "1021          Brown et al. 2005  ApJ  635  1192       NaN  09h16m11.11s   \n",
      "\n",
      "     redshifts              reference  targetids  template_status  test type  \n",
      "0          NaN                    NaN        NaN              NaN   NaN  NaN  \n",
      "1          NaN                    NaN        NaN              NaN   NaN  NaN  \n",
      "2          NaN                    NaN        NaN              NaN   NaN  NaN  \n",
      "3          NaN                    NaN        NaN              NaN   NaN  NaN  \n",
      "4          NaN                    NaN        NaN              NaN   NaN  NaN  \n",
      "...        ...                    ...        ...              ...   ...  ...  \n",
      "1017   0.00154    1996ApJ...473..130R        NaN             done  test   II  \n",
      "1018   0.00646    1992NED11.R......1N        NaN             done  test   Ia  \n",
      "1019   0.01891    1999PASP..111..438F        NaN              NaN  test   Ib  \n",
      "1020   0.01227  1998AandAS..130..333T        NaN              NaN  test   Ia  \n",
      "1021    0.0079  1998AandAS..130..333T        NaN             done  test   Ia  \n",
      "\n",
      "[1022 rows x 70 columns]\n"
     ]
    }
   ],
   "source": [
    "print(swift)"
   ]
  },
  {
   "cell_type": "code",
   "execution_count": null,
   "metadata": {},
   "outputs": [],
   "source": []
  }
 ],
 "metadata": {
  "kernelspec": {
   "display_name": "Python 3",
   "language": "python",
   "name": "python3"
  },
  "language_info": {
   "codemirror_mode": {
    "name": "ipython",
    "version": 3
   },
   "file_extension": ".py",
   "mimetype": "text/x-python",
   "name": "python",
   "nbconvert_exporter": "python",
   "pygments_lexer": "ipython3",
   "version": "3.7.4"
  }
 },
 "nbformat": 4,
 "nbformat_minor": 2
}
