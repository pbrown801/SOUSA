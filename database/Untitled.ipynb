{
 "cells": [
  {
   "cell_type": "code",
   "execution_count": 1,
   "id": "46f59552",
   "metadata": {},
   "outputs": [],
   "source": [
    "import pandas as pd\n",
    "import csv, json\n",
    "\n"
   ]
  },
  {
   "cell_type": "code",
   "execution_count": null,
   "id": "a480b72e",
   "metadata": {},
   "outputs": [],
   "source": [
    "# append the novae from found.json (swifts)\n",
    "f = open('found.json')\n",
    "found = json.load(f)\n",
    "f.close()\n"
   ]
  },
  {
   "cell_type": "code",
   "execution_count": null,
   "id": "10aba764",
   "metadata": {},
   "outputs": [],
   "source": [
    "names, types, redshifts, ra, dec = [], [], [], [], []\n",
    "for i, j in found.items():\n",
    "    names.append(i)\n",
    "    types.append(j)\n",
    "    redshifts.append('')\n",
    "    ra.append('')\n",
    "    dec.append('')\n",
    "    # print(f'Added {i} with type {j}.')\n"
   ]
  },
  {
   "cell_type": "code",
   "execution_count": null,
   "id": "facda9b4",
   "metadata": {},
   "outputs": [],
   "source": [
    "# append the updated.csv names, types\n",
    "with open('updated.csv', newline='') as csvfile:\n",
    "    reader = csv.reader(csvfile)\n",
    "    next(reader, None)\n",
    "    for row in reader:\n",
    "        if '_dup' in row[0]: continue\n",
    "        names.append(row[0])\n",
    "        types.append(row[1])\n",
    "        redshifts.append(row[2])\n",
    "        ra.append('')\n",
    "        dec.append('')\n",
    "        # print(f'Added {row[0]} with type {row[1]} and redshift {row[2]}.')\n",
    "\n"
   ]
  },
  {
   "cell_type": "code",
   "execution_count": null,
   "id": "d9f73620",
   "metadata": {},
   "outputs": [],
   "source": []
  }
 ],
 "metadata": {
  "kernelspec": {
   "display_name": "Python 3 (ipykernel)",
   "language": "python",
   "name": "python3"
  },
  "language_info": {
   "codemirror_mode": {
    "name": "ipython",
    "version": 3
   },
   "file_extension": ".py",
   "mimetype": "text/x-python",
   "name": "python",
   "nbconvert_exporter": "python",
   "pygments_lexer": "ipython3",
   "version": "3.10.10"
  }
 },
 "nbformat": 4,
 "nbformat_minor": 5
}
